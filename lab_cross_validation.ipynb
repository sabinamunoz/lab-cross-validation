{
  "cells": [
    {
      "cell_type": "markdown",
      "metadata": {
        "id": "view-in-github",
        "colab_type": "text"
      },
      "source": [
        "<a href=\"https://colab.research.google.com/github/sabinamunoz/lab-cross-validation/blob/master/lab_cross_validation.ipynb\" target=\"_parent\"><img src=\"https://colab.research.google.com/assets/colab-badge.svg\" alt=\"Open In Colab\"/></a>"
      ]
    },
    {
      "cell_type": "code",
      "execution_count": null,
      "id": "c1822cfa",
      "metadata": {
        "id": "c1822cfa"
      },
      "outputs": [],
      "source": [
        "import pandas as pd\n",
        "import numpy as np\n",
        "\n",
        "from sklearn.preprocessing import StandardScaler\n",
        "from sklearn.model_selection import train_test_split\n",
        "\n",
        "from sklearn.linear_model import LogisticRegression\n",
        "from sklearn import tree\n",
        "\n",
        "from imblearn.over_sampling import SMOTE\n",
        "from imblearn.under_sampling import TomekLinks"
      ]
    },
    {
      "cell_type": "code",
      "execution_count": null,
      "id": "5aae346c",
      "metadata": {
        "id": "5aae346c",
        "outputId": "fce21c89-225f-4f6d-cb9d-3fe0a8c38d80"
      },
      "outputs": [
        {
          "data": {
            "text/html": [
              "<div>\n",
              "<style scoped>\n",
              "    .dataframe tbody tr th:only-of-type {\n",
              "        vertical-align: middle;\n",
              "    }\n",
              "\n",
              "    .dataframe tbody tr th {\n",
              "        vertical-align: top;\n",
              "    }\n",
              "\n",
              "    .dataframe thead th {\n",
              "        text-align: right;\n",
              "    }\n",
              "</style>\n",
              "<table border=\"1\" class=\"dataframe\">\n",
              "  <thead>\n",
              "    <tr style=\"text-align: right;\">\n",
              "      <th></th>\n",
              "      <th>gender</th>\n",
              "      <th>seniorcitizen</th>\n",
              "      <th>partner</th>\n",
              "      <th>dependents</th>\n",
              "      <th>tenure</th>\n",
              "      <th>phoneservice</th>\n",
              "      <th>onlinesecurity</th>\n",
              "      <th>onlinebackup</th>\n",
              "      <th>deviceprotection</th>\n",
              "      <th>techsupport</th>\n",
              "      <th>streamingtv</th>\n",
              "      <th>streamingmovies</th>\n",
              "      <th>contract</th>\n",
              "      <th>monthlycharges</th>\n",
              "      <th>totalcharges</th>\n",
              "      <th>churn</th>\n",
              "    </tr>\n",
              "  </thead>\n",
              "  <tbody>\n",
              "    <tr>\n",
              "      <th>0</th>\n",
              "      <td>Female</td>\n",
              "      <td>0</td>\n",
              "      <td>Yes</td>\n",
              "      <td>No</td>\n",
              "      <td>1</td>\n",
              "      <td>No</td>\n",
              "      <td>No</td>\n",
              "      <td>Yes</td>\n",
              "      <td>No</td>\n",
              "      <td>No</td>\n",
              "      <td>No</td>\n",
              "      <td>No</td>\n",
              "      <td>Month-to-month</td>\n",
              "      <td>29.85</td>\n",
              "      <td>29.85</td>\n",
              "      <td>No</td>\n",
              "    </tr>\n",
              "    <tr>\n",
              "      <th>1</th>\n",
              "      <td>Male</td>\n",
              "      <td>0</td>\n",
              "      <td>No</td>\n",
              "      <td>No</td>\n",
              "      <td>34</td>\n",
              "      <td>Yes</td>\n",
              "      <td>Yes</td>\n",
              "      <td>No</td>\n",
              "      <td>Yes</td>\n",
              "      <td>No</td>\n",
              "      <td>No</td>\n",
              "      <td>No</td>\n",
              "      <td>One year</td>\n",
              "      <td>56.95</td>\n",
              "      <td>1889.5</td>\n",
              "      <td>No</td>\n",
              "    </tr>\n",
              "    <tr>\n",
              "      <th>2</th>\n",
              "      <td>Male</td>\n",
              "      <td>0</td>\n",
              "      <td>No</td>\n",
              "      <td>No</td>\n",
              "      <td>2</td>\n",
              "      <td>Yes</td>\n",
              "      <td>Yes</td>\n",
              "      <td>Yes</td>\n",
              "      <td>No</td>\n",
              "      <td>No</td>\n",
              "      <td>No</td>\n",
              "      <td>No</td>\n",
              "      <td>Month-to-month</td>\n",
              "      <td>53.85</td>\n",
              "      <td>108.15</td>\n",
              "      <td>Yes</td>\n",
              "    </tr>\n",
              "    <tr>\n",
              "      <th>3</th>\n",
              "      <td>Male</td>\n",
              "      <td>0</td>\n",
              "      <td>No</td>\n",
              "      <td>No</td>\n",
              "      <td>45</td>\n",
              "      <td>No</td>\n",
              "      <td>Yes</td>\n",
              "      <td>No</td>\n",
              "      <td>Yes</td>\n",
              "      <td>Yes</td>\n",
              "      <td>No</td>\n",
              "      <td>No</td>\n",
              "      <td>One year</td>\n",
              "      <td>42.30</td>\n",
              "      <td>1840.75</td>\n",
              "      <td>No</td>\n",
              "    </tr>\n",
              "    <tr>\n",
              "      <th>4</th>\n",
              "      <td>Female</td>\n",
              "      <td>0</td>\n",
              "      <td>No</td>\n",
              "      <td>No</td>\n",
              "      <td>2</td>\n",
              "      <td>Yes</td>\n",
              "      <td>No</td>\n",
              "      <td>No</td>\n",
              "      <td>No</td>\n",
              "      <td>No</td>\n",
              "      <td>No</td>\n",
              "      <td>No</td>\n",
              "      <td>Month-to-month</td>\n",
              "      <td>70.70</td>\n",
              "      <td>151.65</td>\n",
              "      <td>Yes</td>\n",
              "    </tr>\n",
              "    <tr>\n",
              "      <th>...</th>\n",
              "      <td>...</td>\n",
              "      <td>...</td>\n",
              "      <td>...</td>\n",
              "      <td>...</td>\n",
              "      <td>...</td>\n",
              "      <td>...</td>\n",
              "      <td>...</td>\n",
              "      <td>...</td>\n",
              "      <td>...</td>\n",
              "      <td>...</td>\n",
              "      <td>...</td>\n",
              "      <td>...</td>\n",
              "      <td>...</td>\n",
              "      <td>...</td>\n",
              "      <td>...</td>\n",
              "      <td>...</td>\n",
              "    </tr>\n",
              "    <tr>\n",
              "      <th>7038</th>\n",
              "      <td>Male</td>\n",
              "      <td>0</td>\n",
              "      <td>Yes</td>\n",
              "      <td>Yes</td>\n",
              "      <td>24</td>\n",
              "      <td>Yes</td>\n",
              "      <td>Yes</td>\n",
              "      <td>No</td>\n",
              "      <td>Yes</td>\n",
              "      <td>Yes</td>\n",
              "      <td>Yes</td>\n",
              "      <td>Yes</td>\n",
              "      <td>One year</td>\n",
              "      <td>84.80</td>\n",
              "      <td>1990.5</td>\n",
              "      <td>No</td>\n",
              "    </tr>\n",
              "    <tr>\n",
              "      <th>7039</th>\n",
              "      <td>Female</td>\n",
              "      <td>0</td>\n",
              "      <td>Yes</td>\n",
              "      <td>Yes</td>\n",
              "      <td>72</td>\n",
              "      <td>Yes</td>\n",
              "      <td>No</td>\n",
              "      <td>Yes</td>\n",
              "      <td>Yes</td>\n",
              "      <td>No</td>\n",
              "      <td>Yes</td>\n",
              "      <td>Yes</td>\n",
              "      <td>One year</td>\n",
              "      <td>103.20</td>\n",
              "      <td>7362.9</td>\n",
              "      <td>No</td>\n",
              "    </tr>\n",
              "    <tr>\n",
              "      <th>7040</th>\n",
              "      <td>Female</td>\n",
              "      <td>0</td>\n",
              "      <td>Yes</td>\n",
              "      <td>Yes</td>\n",
              "      <td>11</td>\n",
              "      <td>No</td>\n",
              "      <td>Yes</td>\n",
              "      <td>No</td>\n",
              "      <td>No</td>\n",
              "      <td>No</td>\n",
              "      <td>No</td>\n",
              "      <td>No</td>\n",
              "      <td>Month-to-month</td>\n",
              "      <td>29.60</td>\n",
              "      <td>346.45</td>\n",
              "      <td>No</td>\n",
              "    </tr>\n",
              "    <tr>\n",
              "      <th>7041</th>\n",
              "      <td>Male</td>\n",
              "      <td>1</td>\n",
              "      <td>Yes</td>\n",
              "      <td>No</td>\n",
              "      <td>4</td>\n",
              "      <td>Yes</td>\n",
              "      <td>No</td>\n",
              "      <td>No</td>\n",
              "      <td>No</td>\n",
              "      <td>No</td>\n",
              "      <td>No</td>\n",
              "      <td>No</td>\n",
              "      <td>Month-to-month</td>\n",
              "      <td>74.40</td>\n",
              "      <td>306.6</td>\n",
              "      <td>Yes</td>\n",
              "    </tr>\n",
              "    <tr>\n",
              "      <th>7042</th>\n",
              "      <td>Male</td>\n",
              "      <td>0</td>\n",
              "      <td>No</td>\n",
              "      <td>No</td>\n",
              "      <td>66</td>\n",
              "      <td>Yes</td>\n",
              "      <td>Yes</td>\n",
              "      <td>No</td>\n",
              "      <td>Yes</td>\n",
              "      <td>Yes</td>\n",
              "      <td>Yes</td>\n",
              "      <td>Yes</td>\n",
              "      <td>Two year</td>\n",
              "      <td>105.65</td>\n",
              "      <td>6844.5</td>\n",
              "      <td>No</td>\n",
              "    </tr>\n",
              "  </tbody>\n",
              "</table>\n",
              "<p>7043 rows × 16 columns</p>\n",
              "</div>"
            ],
            "text/plain": [
              "      gender  seniorcitizen partner dependents  tenure phoneservice  \\\n",
              "0     Female              0     Yes         No       1           No   \n",
              "1       Male              0      No         No      34          Yes   \n",
              "2       Male              0      No         No       2          Yes   \n",
              "3       Male              0      No         No      45           No   \n",
              "4     Female              0      No         No       2          Yes   \n",
              "...      ...            ...     ...        ...     ...          ...   \n",
              "7038    Male              0     Yes        Yes      24          Yes   \n",
              "7039  Female              0     Yes        Yes      72          Yes   \n",
              "7040  Female              0     Yes        Yes      11           No   \n",
              "7041    Male              1     Yes         No       4          Yes   \n",
              "7042    Male              0      No         No      66          Yes   \n",
              "\n",
              "     onlinesecurity onlinebackup deviceprotection techsupport streamingtv  \\\n",
              "0                No          Yes               No          No          No   \n",
              "1               Yes           No              Yes          No          No   \n",
              "2               Yes          Yes               No          No          No   \n",
              "3               Yes           No              Yes         Yes          No   \n",
              "4                No           No               No          No          No   \n",
              "...             ...          ...              ...         ...         ...   \n",
              "7038            Yes           No              Yes         Yes         Yes   \n",
              "7039             No          Yes              Yes          No         Yes   \n",
              "7040            Yes           No               No          No          No   \n",
              "7041             No           No               No          No          No   \n",
              "7042            Yes           No              Yes         Yes         Yes   \n",
              "\n",
              "     streamingmovies        contract  monthlycharges totalcharges churn  \n",
              "0                 No  Month-to-month           29.85        29.85    No  \n",
              "1                 No        One year           56.95       1889.5    No  \n",
              "2                 No  Month-to-month           53.85       108.15   Yes  \n",
              "3                 No        One year           42.30      1840.75    No  \n",
              "4                 No  Month-to-month           70.70       151.65   Yes  \n",
              "...              ...             ...             ...          ...   ...  \n",
              "7038             Yes        One year           84.80       1990.5    No  \n",
              "7039             Yes        One year          103.20       7362.9    No  \n",
              "7040              No  Month-to-month           29.60       346.45    No  \n",
              "7041              No  Month-to-month           74.40        306.6   Yes  \n",
              "7042             Yes        Two year          105.65       6844.5    No  \n",
              "\n",
              "[7043 rows x 16 columns]"
            ]
          },
          "execution_count": 29,
          "metadata": {},
          "output_type": "execute_result"
        }
      ],
      "source": [
        "churn_data = pd.read_csv('files_for_lab/Customer-Churn.csv')\n",
        "churn_data.columns = churn_data.columns.str.lower().str.replace(' ', '_')\n",
        "churn_data"
      ]
    },
    {
      "cell_type": "code",
      "execution_count": null,
      "id": "8c4ab21d",
      "metadata": {
        "id": "8c4ab21d"
      },
      "outputs": [],
      "source": [
        "churn_data.loc[churn_data['totalcharges'] == ' ', 'totalcharges'] = np.nan\n",
        "churn_data['totalcharges'] = churn_data['totalcharges'].astype('float')"
      ]
    },
    {
      "cell_type": "code",
      "execution_count": null,
      "id": "e95a3b1d",
      "metadata": {
        "id": "e95a3b1d"
      },
      "outputs": [],
      "source": [
        "churn_data['totalcharges'].fillna(churn_data['totalcharges'].mean(), inplace=True)"
      ]
    },
    {
      "cell_type": "code",
      "execution_count": null,
      "id": "14d0b7a3",
      "metadata": {
        "id": "14d0b7a3"
      },
      "outputs": [],
      "source": [
        "df = churn_data.copy()"
      ]
    },
    {
      "cell_type": "code",
      "execution_count": null,
      "id": "9e8192ed",
      "metadata": {
        "id": "9e8192ed"
      },
      "outputs": [],
      "source": [
        "cols_scale = df[['tenure', 'seniorcitizen', 'monthlycharges', 'totalcharges']].copy()"
      ]
    },
    {
      "cell_type": "code",
      "execution_count": null,
      "id": "758cf12e",
      "metadata": {
        "id": "758cf12e"
      },
      "outputs": [],
      "source": [
        "scaler = StandardScaler()\n",
        "cols_scale = scaler.fit_transform(cols_scale)"
      ]
    },
    {
      "cell_type": "code",
      "execution_count": null,
      "id": "ad53eaf9",
      "metadata": {
        "id": "ad53eaf9"
      },
      "outputs": [],
      "source": [
        "df.update(cols_scale)"
      ]
    },
    {
      "cell_type": "code",
      "execution_count": null,
      "id": "196e8eb0",
      "metadata": {
        "id": "196e8eb0"
      },
      "outputs": [],
      "source": [
        "y = df['churn']\n",
        "X = df.drop('churn', axis=1)"
      ]
    },
    {
      "cell_type": "code",
      "execution_count": null,
      "id": "3421fbf2",
      "metadata": {
        "id": "3421fbf2",
        "outputId": "3acde3a1-414f-4441-d39d-12aaa8dda139"
      },
      "outputs": [
        {
          "data": {
            "text/html": [
              "<div>\n",
              "<style scoped>\n",
              "    .dataframe tbody tr th:only-of-type {\n",
              "        vertical-align: middle;\n",
              "    }\n",
              "\n",
              "    .dataframe tbody tr th {\n",
              "        vertical-align: top;\n",
              "    }\n",
              "\n",
              "    .dataframe thead th {\n",
              "        text-align: right;\n",
              "    }\n",
              "</style>\n",
              "<table border=\"1\" class=\"dataframe\">\n",
              "  <thead>\n",
              "    <tr style=\"text-align: right;\">\n",
              "      <th></th>\n",
              "      <th>seniorcitizen</th>\n",
              "      <th>tenure</th>\n",
              "      <th>monthlycharges</th>\n",
              "      <th>totalcharges</th>\n",
              "      <th>gender_Female</th>\n",
              "      <th>gender_Male</th>\n",
              "      <th>partner_No</th>\n",
              "      <th>partner_Yes</th>\n",
              "      <th>dependents_No</th>\n",
              "      <th>dependents_Yes</th>\n",
              "      <th>...</th>\n",
              "      <th>techsupport_Yes</th>\n",
              "      <th>streamingtv_No</th>\n",
              "      <th>streamingtv_No internet service</th>\n",
              "      <th>streamingtv_Yes</th>\n",
              "      <th>streamingmovies_No</th>\n",
              "      <th>streamingmovies_No internet service</th>\n",
              "      <th>streamingmovies_Yes</th>\n",
              "      <th>contract_Month-to-month</th>\n",
              "      <th>contract_One year</th>\n",
              "      <th>contract_Two year</th>\n",
              "    </tr>\n",
              "  </thead>\n",
              "  <tbody>\n",
              "    <tr>\n",
              "      <th>0</th>\n",
              "      <td>0</td>\n",
              "      <td>1</td>\n",
              "      <td>29.85</td>\n",
              "      <td>29.85</td>\n",
              "      <td>1</td>\n",
              "      <td>0</td>\n",
              "      <td>0</td>\n",
              "      <td>1</td>\n",
              "      <td>1</td>\n",
              "      <td>0</td>\n",
              "      <td>...</td>\n",
              "      <td>0</td>\n",
              "      <td>1</td>\n",
              "      <td>0</td>\n",
              "      <td>0</td>\n",
              "      <td>1</td>\n",
              "      <td>0</td>\n",
              "      <td>0</td>\n",
              "      <td>1</td>\n",
              "      <td>0</td>\n",
              "      <td>0</td>\n",
              "    </tr>\n",
              "    <tr>\n",
              "      <th>1</th>\n",
              "      <td>0</td>\n",
              "      <td>34</td>\n",
              "      <td>56.95</td>\n",
              "      <td>1889.50</td>\n",
              "      <td>0</td>\n",
              "      <td>1</td>\n",
              "      <td>1</td>\n",
              "      <td>0</td>\n",
              "      <td>1</td>\n",
              "      <td>0</td>\n",
              "      <td>...</td>\n",
              "      <td>0</td>\n",
              "      <td>1</td>\n",
              "      <td>0</td>\n",
              "      <td>0</td>\n",
              "      <td>1</td>\n",
              "      <td>0</td>\n",
              "      <td>0</td>\n",
              "      <td>0</td>\n",
              "      <td>1</td>\n",
              "      <td>0</td>\n",
              "    </tr>\n",
              "    <tr>\n",
              "      <th>2</th>\n",
              "      <td>0</td>\n",
              "      <td>2</td>\n",
              "      <td>53.85</td>\n",
              "      <td>108.15</td>\n",
              "      <td>0</td>\n",
              "      <td>1</td>\n",
              "      <td>1</td>\n",
              "      <td>0</td>\n",
              "      <td>1</td>\n",
              "      <td>0</td>\n",
              "      <td>...</td>\n",
              "      <td>0</td>\n",
              "      <td>1</td>\n",
              "      <td>0</td>\n",
              "      <td>0</td>\n",
              "      <td>1</td>\n",
              "      <td>0</td>\n",
              "      <td>0</td>\n",
              "      <td>1</td>\n",
              "      <td>0</td>\n",
              "      <td>0</td>\n",
              "    </tr>\n",
              "    <tr>\n",
              "      <th>3</th>\n",
              "      <td>0</td>\n",
              "      <td>45</td>\n",
              "      <td>42.30</td>\n",
              "      <td>1840.75</td>\n",
              "      <td>0</td>\n",
              "      <td>1</td>\n",
              "      <td>1</td>\n",
              "      <td>0</td>\n",
              "      <td>1</td>\n",
              "      <td>0</td>\n",
              "      <td>...</td>\n",
              "      <td>1</td>\n",
              "      <td>1</td>\n",
              "      <td>0</td>\n",
              "      <td>0</td>\n",
              "      <td>1</td>\n",
              "      <td>0</td>\n",
              "      <td>0</td>\n",
              "      <td>0</td>\n",
              "      <td>1</td>\n",
              "      <td>0</td>\n",
              "    </tr>\n",
              "    <tr>\n",
              "      <th>4</th>\n",
              "      <td>0</td>\n",
              "      <td>2</td>\n",
              "      <td>70.70</td>\n",
              "      <td>151.65</td>\n",
              "      <td>1</td>\n",
              "      <td>0</td>\n",
              "      <td>1</td>\n",
              "      <td>0</td>\n",
              "      <td>1</td>\n",
              "      <td>0</td>\n",
              "      <td>...</td>\n",
              "      <td>0</td>\n",
              "      <td>1</td>\n",
              "      <td>0</td>\n",
              "      <td>0</td>\n",
              "      <td>1</td>\n",
              "      <td>0</td>\n",
              "      <td>0</td>\n",
              "      <td>1</td>\n",
              "      <td>0</td>\n",
              "      <td>0</td>\n",
              "    </tr>\n",
              "    <tr>\n",
              "      <th>...</th>\n",
              "      <td>...</td>\n",
              "      <td>...</td>\n",
              "      <td>...</td>\n",
              "      <td>...</td>\n",
              "      <td>...</td>\n",
              "      <td>...</td>\n",
              "      <td>...</td>\n",
              "      <td>...</td>\n",
              "      <td>...</td>\n",
              "      <td>...</td>\n",
              "      <td>...</td>\n",
              "      <td>...</td>\n",
              "      <td>...</td>\n",
              "      <td>...</td>\n",
              "      <td>...</td>\n",
              "      <td>...</td>\n",
              "      <td>...</td>\n",
              "      <td>...</td>\n",
              "      <td>...</td>\n",
              "      <td>...</td>\n",
              "      <td>...</td>\n",
              "    </tr>\n",
              "    <tr>\n",
              "      <th>7038</th>\n",
              "      <td>0</td>\n",
              "      <td>24</td>\n",
              "      <td>84.80</td>\n",
              "      <td>1990.50</td>\n",
              "      <td>0</td>\n",
              "      <td>1</td>\n",
              "      <td>0</td>\n",
              "      <td>1</td>\n",
              "      <td>0</td>\n",
              "      <td>1</td>\n",
              "      <td>...</td>\n",
              "      <td>1</td>\n",
              "      <td>0</td>\n",
              "      <td>0</td>\n",
              "      <td>1</td>\n",
              "      <td>0</td>\n",
              "      <td>0</td>\n",
              "      <td>1</td>\n",
              "      <td>0</td>\n",
              "      <td>1</td>\n",
              "      <td>0</td>\n",
              "    </tr>\n",
              "    <tr>\n",
              "      <th>7039</th>\n",
              "      <td>0</td>\n",
              "      <td>72</td>\n",
              "      <td>103.20</td>\n",
              "      <td>7362.90</td>\n",
              "      <td>1</td>\n",
              "      <td>0</td>\n",
              "      <td>0</td>\n",
              "      <td>1</td>\n",
              "      <td>0</td>\n",
              "      <td>1</td>\n",
              "      <td>...</td>\n",
              "      <td>0</td>\n",
              "      <td>0</td>\n",
              "      <td>0</td>\n",
              "      <td>1</td>\n",
              "      <td>0</td>\n",
              "      <td>0</td>\n",
              "      <td>1</td>\n",
              "      <td>0</td>\n",
              "      <td>1</td>\n",
              "      <td>0</td>\n",
              "    </tr>\n",
              "    <tr>\n",
              "      <th>7040</th>\n",
              "      <td>0</td>\n",
              "      <td>11</td>\n",
              "      <td>29.60</td>\n",
              "      <td>346.45</td>\n",
              "      <td>1</td>\n",
              "      <td>0</td>\n",
              "      <td>0</td>\n",
              "      <td>1</td>\n",
              "      <td>0</td>\n",
              "      <td>1</td>\n",
              "      <td>...</td>\n",
              "      <td>0</td>\n",
              "      <td>1</td>\n",
              "      <td>0</td>\n",
              "      <td>0</td>\n",
              "      <td>1</td>\n",
              "      <td>0</td>\n",
              "      <td>0</td>\n",
              "      <td>1</td>\n",
              "      <td>0</td>\n",
              "      <td>0</td>\n",
              "    </tr>\n",
              "    <tr>\n",
              "      <th>7041</th>\n",
              "      <td>1</td>\n",
              "      <td>4</td>\n",
              "      <td>74.40</td>\n",
              "      <td>306.60</td>\n",
              "      <td>0</td>\n",
              "      <td>1</td>\n",
              "      <td>0</td>\n",
              "      <td>1</td>\n",
              "      <td>1</td>\n",
              "      <td>0</td>\n",
              "      <td>...</td>\n",
              "      <td>0</td>\n",
              "      <td>1</td>\n",
              "      <td>0</td>\n",
              "      <td>0</td>\n",
              "      <td>1</td>\n",
              "      <td>0</td>\n",
              "      <td>0</td>\n",
              "      <td>1</td>\n",
              "      <td>0</td>\n",
              "      <td>0</td>\n",
              "    </tr>\n",
              "    <tr>\n",
              "      <th>7042</th>\n",
              "      <td>0</td>\n",
              "      <td>66</td>\n",
              "      <td>105.65</td>\n",
              "      <td>6844.50</td>\n",
              "      <td>0</td>\n",
              "      <td>1</td>\n",
              "      <td>1</td>\n",
              "      <td>0</td>\n",
              "      <td>1</td>\n",
              "      <td>0</td>\n",
              "      <td>...</td>\n",
              "      <td>1</td>\n",
              "      <td>0</td>\n",
              "      <td>0</td>\n",
              "      <td>1</td>\n",
              "      <td>0</td>\n",
              "      <td>0</td>\n",
              "      <td>1</td>\n",
              "      <td>0</td>\n",
              "      <td>0</td>\n",
              "      <td>1</td>\n",
              "    </tr>\n",
              "  </tbody>\n",
              "</table>\n",
              "<p>7043 rows × 33 columns</p>\n",
              "</div>"
            ],
            "text/plain": [
              "      seniorcitizen  tenure  monthlycharges  totalcharges  gender_Female  \\\n",
              "0                 0       1           29.85         29.85              1   \n",
              "1                 0      34           56.95       1889.50              0   \n",
              "2                 0       2           53.85        108.15              0   \n",
              "3                 0      45           42.30       1840.75              0   \n",
              "4                 0       2           70.70        151.65              1   \n",
              "...             ...     ...             ...           ...            ...   \n",
              "7038              0      24           84.80       1990.50              0   \n",
              "7039              0      72          103.20       7362.90              1   \n",
              "7040              0      11           29.60        346.45              1   \n",
              "7041              1       4           74.40        306.60              0   \n",
              "7042              0      66          105.65       6844.50              0   \n",
              "\n",
              "      gender_Male  partner_No  partner_Yes  dependents_No  dependents_Yes  \\\n",
              "0               0           0            1              1               0   \n",
              "1               1           1            0              1               0   \n",
              "2               1           1            0              1               0   \n",
              "3               1           1            0              1               0   \n",
              "4               0           1            0              1               0   \n",
              "...           ...         ...          ...            ...             ...   \n",
              "7038            1           0            1              0               1   \n",
              "7039            0           0            1              0               1   \n",
              "7040            0           0            1              0               1   \n",
              "7041            1           0            1              1               0   \n",
              "7042            1           1            0              1               0   \n",
              "\n",
              "      ...  techsupport_Yes  streamingtv_No  streamingtv_No internet service  \\\n",
              "0     ...                0               1                                0   \n",
              "1     ...                0               1                                0   \n",
              "2     ...                0               1                                0   \n",
              "3     ...                1               1                                0   \n",
              "4     ...                0               1                                0   \n",
              "...   ...              ...             ...                              ...   \n",
              "7038  ...                1               0                                0   \n",
              "7039  ...                0               0                                0   \n",
              "7040  ...                0               1                                0   \n",
              "7041  ...                0               1                                0   \n",
              "7042  ...                1               0                                0   \n",
              "\n",
              "      streamingtv_Yes  streamingmovies_No  \\\n",
              "0                   0                   1   \n",
              "1                   0                   1   \n",
              "2                   0                   1   \n",
              "3                   0                   1   \n",
              "4                   0                   1   \n",
              "...               ...                 ...   \n",
              "7038                1                   0   \n",
              "7039                1                   0   \n",
              "7040                0                   1   \n",
              "7041                0                   1   \n",
              "7042                1                   0   \n",
              "\n",
              "      streamingmovies_No internet service  streamingmovies_Yes  \\\n",
              "0                                       0                    0   \n",
              "1                                       0                    0   \n",
              "2                                       0                    0   \n",
              "3                                       0                    0   \n",
              "4                                       0                    0   \n",
              "...                                   ...                  ...   \n",
              "7038                                    0                    1   \n",
              "7039                                    0                    1   \n",
              "7040                                    0                    0   \n",
              "7041                                    0                    0   \n",
              "7042                                    0                    1   \n",
              "\n",
              "      contract_Month-to-month  contract_One year  contract_Two year  \n",
              "0                           1                  0                  0  \n",
              "1                           0                  1                  0  \n",
              "2                           1                  0                  0  \n",
              "3                           0                  1                  0  \n",
              "4                           1                  0                  0  \n",
              "...                       ...                ...                ...  \n",
              "7038                        0                  1                  0  \n",
              "7039                        0                  1                  0  \n",
              "7040                        1                  0                  0  \n",
              "7041                        1                  0                  0  \n",
              "7042                        0                  0                  1  \n",
              "\n",
              "[7043 rows x 33 columns]"
            ]
          },
          "execution_count": 37,
          "metadata": {},
          "output_type": "execute_result"
        }
      ],
      "source": [
        "X = pd.get_dummies(X, columns=X.select_dtypes('object').columns.tolist())\n",
        "X"
      ]
    },
    {
      "cell_type": "code",
      "execution_count": null,
      "id": "6f25019b",
      "metadata": {
        "id": "6f25019b"
      },
      "outputs": [],
      "source": [
        "X_train, X_test, y_train, y_test = train_test_split(X, y, test_size=0.3, random_state=42)"
      ]
    },
    {
      "cell_type": "markdown",
      "id": "9c871737",
      "metadata": {
        "id": "9c871737"
      },
      "source": [
        "## 1. Apply SMOTE for upsampling"
      ]
    },
    {
      "cell_type": "code",
      "execution_count": null,
      "id": "ced39e4f",
      "metadata": {
        "id": "ced39e4f",
        "outputId": "9a2e889f-6dd2-46e8-cbed-8760444547b0"
      },
      "outputs": [
        {
          "data": {
            "text/plain": [
              "No     3635\n",
              "Yes    3635\n",
              "Name: churn, dtype: int64"
            ]
          },
          "execution_count": 39,
          "metadata": {},
          "output_type": "execute_result"
        }
      ],
      "source": [
        "smote = SMOTE(random_state=42)\n",
        "X_train_smote, y_train_smote = smote.fit_resample(X_train, y_train)\n",
        "y_train_smote.value_counts()"
      ]
    },
    {
      "cell_type": "markdown",
      "id": "fe9d0704",
      "metadata": {
        "id": "fe9d0704"
      },
      "source": [
        "### a. Use logistic regression to fit the model"
      ]
    },
    {
      "cell_type": "code",
      "execution_count": null,
      "id": "184bb320",
      "metadata": {
        "id": "184bb320",
        "outputId": "26252b1f-4dee-4e51-a48a-3a4b14b965c8"
      },
      "outputs": [
        {
          "name": "stderr",
          "output_type": "stream",
          "text": [
            "C:\\Users\\grwc9\\AppData\\Roaming\\Python\\Python310\\site-packages\\sklearn\\linear_model\\_logistic.py:458: ConvergenceWarning: lbfgs failed to converge (status=1):\n",
            "STOP: TOTAL NO. of ITERATIONS REACHED LIMIT.\n",
            "\n",
            "Increase the number of iterations (max_iter) or scale the data as shown in:\n",
            "    https://scikit-learn.org/stable/modules/preprocessing.html\n",
            "Please also refer to the documentation for alternative solver options:\n",
            "    https://scikit-learn.org/stable/modules/linear_model.html#logistic-regression\n",
            "  n_iter_i = _check_optimize_result(\n"
          ]
        },
        {
          "data": {
            "text/plain": [
              "0.7917652626597255"
            ]
          },
          "execution_count": 40,
          "metadata": {},
          "output_type": "execute_result"
        }
      ],
      "source": [
        "classification = LogisticRegression(random_state=42, max_iter=1000)\n",
        "classification.fit(X_train_smote, y_train_smote)\n",
        "predictions = classification.predict(X_test)\n",
        "classification.score(X_test, y_test)"
      ]
    },
    {
      "cell_type": "markdown",
      "id": "73a8ba70",
      "metadata": {
        "id": "73a8ba70"
      },
      "source": [
        "### b. Use decision tree classifier to fit the model"
      ]
    },
    {
      "cell_type": "code",
      "execution_count": null,
      "id": "cb6f8c41",
      "metadata": {
        "id": "cb6f8c41",
        "outputId": "30e6b128-2231-4f19-b07b-67393280c62a"
      },
      "outputs": [
        {
          "data": {
            "text/plain": [
              "0.7188831045906294"
            ]
          },
          "execution_count": 45,
          "metadata": {},
          "output_type": "execute_result"
        }
      ],
      "source": [
        "classification_tree = tree.DecisionTreeClassifier()\n",
        "classification_tree = classification_tree.fit(X_train, y_train)\n",
        "classification_tree.score(X_test, y_test)"
      ]
    },
    {
      "cell_type": "markdown",
      "id": "f96bd6f5",
      "metadata": {
        "id": "f96bd6f5"
      },
      "source": [
        "### c. Compare the accuracies of the two models"
      ]
    },
    {
      "cell_type": "markdown",
      "id": "4ffc6ca2",
      "metadata": {
        "id": "4ffc6ca2"
      },
      "source": [
        "* Logistic regressor presents a slightly higher score vs. decision tree classifier - .79 vs .71"
      ]
    },
    {
      "cell_type": "markdown",
      "id": "4987933d",
      "metadata": {
        "id": "4987933d"
      },
      "source": [
        "## 2. Apply TomekLinks for downsampling"
      ]
    },
    {
      "cell_type": "code",
      "execution_count": null,
      "id": "8d79de06",
      "metadata": {
        "id": "8d79de06",
        "outputId": "5d562665-0391-48c6-bb7f-b4ec7200d55c"
      },
      "outputs": [
        {
          "data": {
            "text/plain": [
              "No     3210\n",
              "Yes    1295\n",
              "Name: churn, dtype: int64"
            ]
          },
          "execution_count": 50,
          "metadata": {},
          "output_type": "execute_result"
        }
      ],
      "source": [
        "tomek = TomekLinks()\n",
        "X_train_tomek, y_train_tomek = tomek.fit_resample(X_train, y_train)\n",
        "y_train_tomek.value_counts()"
      ]
    },
    {
      "cell_type": "markdown",
      "id": "9c1a8f7e",
      "metadata": {
        "id": "9c1a8f7e"
      },
      "source": [
        "### a. Use logistic regression to fit the model"
      ]
    },
    {
      "cell_type": "code",
      "execution_count": null,
      "id": "9d2dffa1",
      "metadata": {
        "id": "9d2dffa1",
        "outputId": "eea31466-7f78-4176-8ca1-a8154d7b3584"
      },
      "outputs": [
        {
          "data": {
            "text/plain": [
              "0.795551348793185"
            ]
          },
          "execution_count": 51,
          "metadata": {},
          "output_type": "execute_result"
        }
      ],
      "source": [
        "classification = LogisticRegression(random_state=42, max_iter=100000)\n",
        "classification.fit(X_train_tomek, y_train_tomek)\n",
        "predictions = classification.predict(X_test)\n",
        "classification.score(X_test, y_test)"
      ]
    },
    {
      "cell_type": "markdown",
      "id": "016d325d",
      "metadata": {
        "id": "016d325d"
      },
      "source": [
        "### b. Use decision tree classifier to fit the model"
      ]
    },
    {
      "cell_type": "code",
      "execution_count": null,
      "id": "0fd295cd",
      "metadata": {
        "id": "0fd295cd",
        "outputId": "297b4388-7c44-4091-ff7c-2da151d61f99"
      },
      "outputs": [
        {
          "data": {
            "text/plain": [
              "0.722669190724089"
            ]
          },
          "execution_count": 52,
          "metadata": {},
          "output_type": "execute_result"
        }
      ],
      "source": [
        "classification_tree = tree.DecisionTreeClassifier()\n",
        "classification_tree = classification_tree.fit(X_train_tomek, y_train_tomek)\n",
        "classification_tree.score(X_test, y_test)"
      ]
    },
    {
      "cell_type": "markdown",
      "id": "c5fb3ca5",
      "metadata": {
        "id": "c5fb3ca5"
      },
      "source": [
        "### c. Compare the accuracies of the two models"
      ]
    },
    {
      "cell_type": "markdown",
      "id": "8145dc0a",
      "metadata": {
        "id": "8145dc0a"
      },
      "source": [
        "* Logistic regressor presents a slightly higher score vs. decision tree classifier - .79 vs .72"
      ]
    },
    {
      "cell_type": "markdown",
      "id": "4e2d3b45",
      "metadata": {
        "id": "4e2d3b45"
      },
      "source": [
        "### d. apply this algorithm one more time and check for changes"
      ]
    },
    {
      "cell_type": "code",
      "execution_count": null,
      "id": "b1c5ec1d",
      "metadata": {
        "id": "b1c5ec1d",
        "outputId": "eeb2f6ef-020d-4e9a-e8c3-f435bba95450"
      },
      "outputs": [
        {
          "data": {
            "text/plain": [
              "No     3082\n",
              "Yes    1295\n",
              "Name: churn, dtype: int64"
            ]
          },
          "execution_count": 53,
          "metadata": {},
          "output_type": "execute_result"
        }
      ],
      "source": [
        "tomek = TomekLinks()\n",
        "X_train_tomek, y_train_tomek = tomek.fit_resample(X_train_tomek, y_train_tomek)\n",
        "y_train_tomek.value_counts()"
      ]
    },
    {
      "cell_type": "code",
      "execution_count": null,
      "id": "847c13ef",
      "metadata": {
        "id": "847c13ef",
        "outputId": "f1fb57f6-53b4-4bbc-8f87-4becb51d2328"
      },
      "outputs": [
        {
          "data": {
            "text/plain": [
              "0.795551348793185"
            ]
          },
          "execution_count": 54,
          "metadata": {},
          "output_type": "execute_result"
        }
      ],
      "source": [
        "classification = LogisticRegression(random_state=42, max_iter=100000)\n",
        "classification.fit(X_train_tomek, y_train_tomek)\n",
        "predictions = classification.predict(X_test)\n",
        "classification.score(X_test, y_test)"
      ]
    },
    {
      "cell_type": "code",
      "execution_count": null,
      "id": "33578180",
      "metadata": {
        "id": "33578180",
        "outputId": "6d9ef99c-bca9-4f3e-cf5f-60b770a0e439"
      },
      "outputs": [
        {
          "data": {
            "text/plain": [
              "0.735447231424515"
            ]
          },
          "execution_count": 55,
          "metadata": {},
          "output_type": "execute_result"
        }
      ],
      "source": [
        "classification_tree = tree.DecisionTreeClassifier()\n",
        "classification_tree = classification_tree.fit(X_train_tomek, y_train_tomek)\n",
        "classification_tree.score(X_test, y_test)"
      ]
    },
    {
      "cell_type": "markdown",
      "id": "c3b12751",
      "metadata": {
        "id": "c3b12751"
      },
      "source": [
        "#### After second pass of tomeklinks\n",
        "* Logistic regressor shows no changes - .79\n",
        "* decision tree classifier - slight improvement  from .72 to .73"
      ]
    }
  ],
  "metadata": {
    "kernelspec": {
      "display_name": "Python 3 (ipykernel)",
      "language": "python",
      "name": "python3"
    },
    "language_info": {
      "codemirror_mode": {
        "name": "ipython",
        "version": 3
      },
      "file_extension": ".py",
      "mimetype": "text/x-python",
      "name": "python",
      "nbconvert_exporter": "python",
      "pygments_lexer": "ipython3",
      "version": "3.10.9"
    },
    "colab": {
      "provenance": [],
      "include_colab_link": true
    }
  },
  "nbformat": 4,
  "nbformat_minor": 5
}